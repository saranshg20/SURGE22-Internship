{
 "cells": [
  {
   "cell_type": "code",
   "execution_count": 29,
   "metadata": {},
   "outputs": [],
   "source": [
    "import librosa\n",
    "from scipy import signal\n",
    "import numpy as np"
   ]
  },
  {
   "cell_type": "code",
   "execution_count": 30,
   "metadata": {},
   "outputs": [],
   "source": [
    "def delay_core(reference, recorded, DEBUG=False):\n",
    "        sr=RATE\n",
    "        corr = signal.correlate(reference, recorded, mode='full') \n",
    "        d = -(np.argmax(corr) - len(recorded) + 1)\n",
    "        return d     \n",
    "\n",
    "\n",
    "def delay_audio(y_play, y_record):\n",
    "    delay_in_sec = delay_core(y_play, y_record, DEBUG=True) / RATE\n",
    "    delay_in_sec = str(abs(np.round(delay_in_sec, 3)))\n",
    "    return delay_in_sec\n"
   ]
  },
  {
   "cell_type": "code",
   "execution_count": 61,
   "metadata": {},
   "outputs": [],
   "source": [
    "RATE = 48000\n",
    "y_play, _ = librosa.load('chirp/chirp48.wav',sr=RATE)\n",
    "y_record, _ = librosa.load('chirp/10.wav',sr=RATE)"
   ]
  },
  {
   "cell_type": "code",
   "execution_count": 62,
   "metadata": {},
   "outputs": [
    {
     "name": "stdout",
     "output_type": "stream",
     "text": [
      "0.052\n"
     ]
    }
   ],
   "source": [
    "delay = delay_audio(y_play, y_record)\n",
    "print(delay)"
   ]
  },
  {
   "cell_type": "code",
   "execution_count": null,
   "metadata": {},
   "outputs": [],
   "source": []
  },
  {
   "cell_type": "code",
   "execution_count": null,
   "metadata": {},
   "outputs": [],
   "source": []
  }
 ],
 "metadata": {
  "kernelspec": {
   "display_name": "Python 3",
   "language": "python",
   "name": "python3"
  },
  "language_info": {
   "codemirror_mode": {
    "name": "ipython",
    "version": 3
   },
   "file_extension": ".py",
   "mimetype": "text/x-python",
   "name": "python",
   "nbconvert_exporter": "python",
   "pygments_lexer": "ipython3",
   "version": "3.8.5"
  }
 },
 "nbformat": 4,
 "nbformat_minor": 4
}
